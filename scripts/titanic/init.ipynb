{
 "cells": [
  {
   "cell_type": "code",
   "execution_count": 2,
   "metadata": {},
   "outputs": [],
   "source": [
    "from sklearn.cluster import KMeans\n",
    "import numpy as np\n",
    "import pandas as pd"
   ]
  },
  {
   "cell_type": "code",
   "execution_count": 6,
   "metadata": {},
   "outputs": [
    {
     "data": {
      "text/html": [
       "<div>\n",
       "<style scoped>\n",
       "    .dataframe tbody tr th:only-of-type {\n",
       "        vertical-align: middle;\n",
       "    }\n",
       "\n",
       "    .dataframe tbody tr th {\n",
       "        vertical-align: top;\n",
       "    }\n",
       "\n",
       "    .dataframe thead th {\n",
       "        text-align: right;\n",
       "    }\n",
       "</style>\n",
       "<table border=\"1\" class=\"dataframe\">\n",
       "  <thead>\n",
       "    <tr style=\"text-align: right;\">\n",
       "      <th></th>\n",
       "      <th>PassengerId</th>\n",
       "      <th>Survived</th>\n",
       "      <th>Pclass</th>\n",
       "      <th>Name</th>\n",
       "      <th>Sex</th>\n",
       "      <th>Age</th>\n",
       "      <th>SibSp</th>\n",
       "      <th>Parch</th>\n",
       "      <th>Ticket</th>\n",
       "      <th>Fare</th>\n",
       "      <th>Cabin</th>\n",
       "      <th>Embarked</th>\n",
       "    </tr>\n",
       "  </thead>\n",
       "  <tbody>\n",
       "    <tr>\n",
       "      <th>0</th>\n",
       "      <td>1</td>\n",
       "      <td>0</td>\n",
       "      <td>3</td>\n",
       "      <td>Braund, Mr. Owen Harris</td>\n",
       "      <td>male</td>\n",
       "      <td>22.0</td>\n",
       "      <td>1</td>\n",
       "      <td>0</td>\n",
       "      <td>A/5 21171</td>\n",
       "      <td>7.2500</td>\n",
       "      <td>NaN</td>\n",
       "      <td>S</td>\n",
       "    </tr>\n",
       "    <tr>\n",
       "      <th>1</th>\n",
       "      <td>2</td>\n",
       "      <td>1</td>\n",
       "      <td>1</td>\n",
       "      <td>Cumings, Mrs. John Bradley (Florence Briggs Thayer)</td>\n",
       "      <td>female</td>\n",
       "      <td>38.0</td>\n",
       "      <td>1</td>\n",
       "      <td>0</td>\n",
       "      <td>PC 17599</td>\n",
       "      <td>71.2833</td>\n",
       "      <td>C85</td>\n",
       "      <td>C</td>\n",
       "    </tr>\n",
       "    <tr>\n",
       "      <th>2</th>\n",
       "      <td>3</td>\n",
       "      <td>1</td>\n",
       "      <td>3</td>\n",
       "      <td>Heikkinen, Miss. Laina</td>\n",
       "      <td>female</td>\n",
       "      <td>26.0</td>\n",
       "      <td>0</td>\n",
       "      <td>0</td>\n",
       "      <td>STON/O2. 3101282</td>\n",
       "      <td>7.9250</td>\n",
       "      <td>NaN</td>\n",
       "      <td>S</td>\n",
       "    </tr>\n",
       "    <tr>\n",
       "      <th>3</th>\n",
       "      <td>4</td>\n",
       "      <td>1</td>\n",
       "      <td>1</td>\n",
       "      <td>Futrelle, Mrs. Jacques Heath (Lily May Peel)</td>\n",
       "      <td>female</td>\n",
       "      <td>35.0</td>\n",
       "      <td>1</td>\n",
       "      <td>0</td>\n",
       "      <td>113803</td>\n",
       "      <td>53.1000</td>\n",
       "      <td>C123</td>\n",
       "      <td>S</td>\n",
       "    </tr>\n",
       "    <tr>\n",
       "      <th>4</th>\n",
       "      <td>5</td>\n",
       "      <td>0</td>\n",
       "      <td>3</td>\n",
       "      <td>Allen, Mr. William Henry</td>\n",
       "      <td>male</td>\n",
       "      <td>35.0</td>\n",
       "      <td>0</td>\n",
       "      <td>0</td>\n",
       "      <td>373450</td>\n",
       "      <td>8.0500</td>\n",
       "      <td>NaN</td>\n",
       "      <td>S</td>\n",
       "    </tr>\n",
       "  </tbody>\n",
       "</table>\n",
       "</div>"
      ],
      "text/plain": [
       "   PassengerId  Survived  Pclass  \\\n",
       "0            1         0       3   \n",
       "1            2         1       1   \n",
       "2            3         1       3   \n",
       "3            4         1       1   \n",
       "4            5         0       3   \n",
       "\n",
       "                                                  Name     Sex   Age  SibSp  \\\n",
       "0                              Braund, Mr. Owen Harris    male  22.0      1   \n",
       "1  Cumings, Mrs. John Bradley (Florence Briggs Thayer)  female  38.0      1   \n",
       "2                               Heikkinen, Miss. Laina  female  26.0      0   \n",
       "3         Futrelle, Mrs. Jacques Heath (Lily May Peel)  female  35.0      1   \n",
       "4                             Allen, Mr. William Henry    male  35.0      0   \n",
       "\n",
       "   Parch            Ticket     Fare Cabin Embarked  \n",
       "0      0         A/5 21171   7.2500   NaN        S  \n",
       "1      0          PC 17599  71.2833   C85        C  \n",
       "2      0  STON/O2. 3101282   7.9250   NaN        S  \n",
       "3      0            113803  53.1000  C123        S  \n",
       "4      0            373450   8.0500   NaN        S  "
      ]
     },
     "execution_count": 6,
     "metadata": {},
     "output_type": "execute_result"
    }
   ],
   "source": [
    "\n",
    "# Cargar el dataset (descargarlo desde Kaggle si no lo tienes)\n",
    "url = 'C:/Users/Diego/Desktop/ML/data/train/titanic.csv'\n",
    "\n",
    "# Configuración para mostrar todas las columnas\n",
    "pd.set_option('display.max_columns', None)\n",
    "\n",
    "# Configuración para mostrar todo el contenido de las columnas\n",
    "pd.set_option('display.max_colwidth', None)\n",
    "\n",
    "# Configuración para mostrar todas las filas (si es necesario)\n",
    "pd.set_option('display.max_rows', None)\n",
    "\n",
    "df = pd.read_csv(url)\n",
    "df.head()"
   ]
  },
  {
   "cell_type": "code",
   "execution_count": 10,
   "metadata": {},
   "outputs": [
    {
     "name": "stdout",
     "output_type": "stream",
     "text": [
      "<class 'pandas.core.frame.DataFrame'>\n",
      "RangeIndex: 831 entries, 0 to 830\n",
      "Data columns (total 12 columns):\n",
      " #   Column       Non-Null Count  Dtype  \n",
      "---  ------       --------------  -----  \n",
      " 0   PassengerId  831 non-null    int64  \n",
      " 1   Survived     831 non-null    int64  \n",
      " 2   Pclass       831 non-null    int64  \n",
      " 3   Name         831 non-null    object \n",
      " 4   Sex          831 non-null    int64  \n",
      " 5   Age          831 non-null    float64\n",
      " 6   SibSp        831 non-null    int64  \n",
      " 7   Parch        831 non-null    int64  \n",
      " 8   Ticket       831 non-null    object \n",
      " 9   Fare         831 non-null    float64\n",
      " 10  Cabin        192 non-null    object \n",
      " 11  Embarked     831 non-null    float64\n",
      "dtypes: float64(3), int64(6), object(3)\n",
      "memory usage: 78.0+ KB\n",
      "None\n"
     ]
    }
   ],
   "source": [
    "# Explorar el conjunto de datos\n",
    "print(df.info())"
   ]
  },
  {
   "cell_type": "code",
   "execution_count": 7,
   "metadata": {},
   "outputs": [],
   "source": [
    "# Convertir variables categóricas a variables numéricas\n",
    "df['Sex'] = df['Sex'].map({'male': 0, 'female': 1})\n",
    "df['Embarked'] = df['Embarked'].map({'S': 0, 'C': 1, 'Q': 2})\n",
    "\n",
    "# Rellenar valores nulos\n",
    "df['Age'].fillna(df['Age'].mean(), inplace=True)\n",
    "df['Embarked'].fillna(df['Embarked'].mode()[0], inplace=True)"
   ]
  },
  {
   "cell_type": "code",
   "execution_count": 19,
   "metadata": {},
   "outputs": [
    {
     "name": "stdout",
     "output_type": "stream",
     "text": [
      "Columnas categóricas: Index([], dtype='object')\n",
      "Columnas numéricas: Index(['PassengerId', 'Survived', 'Pclass', 'Sex', 'Age', 'SibSp', 'Parch',\n",
      "       'Fare', 'Embarked'],\n",
      "      dtype='object')\n"
     ]
    }
   ],
   "source": [
    "# Identificar columnas categóricas y numéricas\n",
    "categoricas = df.select_dtypes(include=['object', 'category'])\n",
    "numericas = df.select_dtypes(include=['int64', 'float64'])\n",
    "\n",
    "print(\"Columnas categóricas:\", categoricas.columns)\n",
    "print(\"Columnas numéricas:\", numericas.columns)\n",
    "\n",
    "df = df.drop(columns='PassengerId')\n",
    "\n",
    "df = df.drop(columns=categoricas.columns)\n"
   ]
  },
  {
   "cell_type": "code",
   "execution_count": 20,
   "metadata": {},
   "outputs": [
    {
     "data": {
      "image/png": "[encoded data removed]",
      "text/plain": [
       "<Figure size 640x480 with 2 Axes>"
      ]
     },
     "metadata": {},
     "output_type": "display_data"
    }
   ],
   "source": [
    "import seaborn as sns\n",
    "import matplotlib.pyplot as plt\n",
    "\n",
    "# Matriz de correlación\n",
    "corr = df.corr()\n",
    "sns.heatmap(corr, annot=True, fmt='.2f')\n",
    "plt.show()\n"
   ]
  },
  {
   "cell_type": "code",
   "execution_count": 24,
   "metadata": {},
   "outputs": [
    {
     "data": {
      "text/html": [
       "<div>\n",
       "<style scoped>\n",
       "    .dataframe tbody tr th:only-of-type {\n",
       "        vertical-align: middle;\n",
       "    }\n",
       "\n",
       "    .dataframe tbody tr th {\n",
       "        vertical-align: top;\n",
       "    }\n",
       "\n",
       "    .dataframe thead th {\n",
       "        text-align: right;\n",
       "    }\n",
       "</style>\n",
       "<table border=\"1\" class=\"dataframe\">\n",
       "  <thead>\n",
       "    <tr style=\"text-align: right;\">\n",
       "      <th></th>\n",
       "      <th>Survived</th>\n",
       "      <th>Pclass</th>\n",
       "      <th>Sex</th>\n",
       "      <th>Age</th>\n",
       "      <th>SibSp</th>\n",
       "      <th>Parch</th>\n",
       "      <th>Fare</th>\n",
       "      <th>Embarked</th>\n",
       "    </tr>\n",
       "  </thead>\n",
       "  <tbody>\n",
       "    <tr>\n",
       "      <th>Survived</th>\n",
       "      <td>True</td>\n",
       "      <td>False</td>\n",
       "      <td>True</td>\n",
       "      <td>False</td>\n",
       "      <td>False</td>\n",
       "      <td>False</td>\n",
       "      <td>False</td>\n",
       "      <td>False</td>\n",
       "    </tr>\n",
       "    <tr>\n",
       "      <th>Pclass</th>\n",
       "      <td>False</td>\n",
       "      <td>True</td>\n",
       "      <td>False</td>\n",
       "      <td>False</td>\n",
       "      <td>False</td>\n",
       "      <td>False</td>\n",
       "      <td>True</td>\n",
       "      <td>False</td>\n",
       "    </tr>\n",
       "    <tr>\n",
       "      <th>Sex</th>\n",
       "      <td>True</td>\n",
       "      <td>False</td>\n",
       "      <td>True</td>\n",
       "      <td>False</td>\n",
       "      <td>False</td>\n",
       "      <td>False</td>\n",
       "      <td>False</td>\n",
       "      <td>False</td>\n",
       "    </tr>\n",
       "    <tr>\n",
       "      <th>Age</th>\n",
       "      <td>False</td>\n",
       "      <td>False</td>\n",
       "      <td>False</td>\n",
       "      <td>True</td>\n",
       "      <td>False</td>\n",
       "      <td>False</td>\n",
       "      <td>False</td>\n",
       "      <td>False</td>\n",
       "    </tr>\n",
       "    <tr>\n",
       "      <th>SibSp</th>\n",
       "      <td>False</td>\n",
       "      <td>False</td>\n",
       "      <td>False</td>\n",
       "      <td>False</td>\n",
       "      <td>True</td>\n",
       "      <td>False</td>\n",
       "      <td>False</td>\n",
       "      <td>False</td>\n",
       "    </tr>\n",
       "    <tr>\n",
       "      <th>Parch</th>\n",
       "      <td>False</td>\n",
       "      <td>False</td>\n",
       "      <td>False</td>\n",
       "      <td>False</td>\n",
       "      <td>False</td>\n",
       "      <td>True</td>\n",
       "      <td>False</td>\n",
       "      <td>False</td>\n",
       "    </tr>\n",
       "    <tr>\n",
       "      <th>Fare</th>\n",
       "      <td>False</td>\n",
       "      <td>True</td>\n",
       "      <td>False</td>\n",
       "      <td>False</td>\n",
       "      <td>False</td>\n",
       "      <td>False</td>\n",
       "      <td>True</td>\n",
       "      <td>False</td>\n",
       "    </tr>\n",
       "    <tr>\n",
       "      <th>Embarked</th>\n",
       "      <td>False</td>\n",
       "      <td>False</td>\n",
       "      <td>False</td>\n",
       "      <td>False</td>\n",
       "      <td>False</td>\n",
       "      <td>False</td>\n",
       "      <td>False</td>\n",
       "      <td>True</td>\n",
       "    </tr>\n",
       "  </tbody>\n",
       "</table>\n",
       "</div>"
      ],
      "text/plain": [
       "          Survived  Pclass    Sex    Age  SibSp  Parch   Fare  Embarked\n",
       "Survived      True   False   True  False  False  False  False     False\n",
       "Pclass       False    True  False  False  False  False   True     False\n",
       "Sex           True   False   True  False  False  False  False     False\n",
       "Age          False   False  False   True  False  False  False     False\n",
       "SibSp        False   False  False  False   True  False  False     False\n",
       "Parch        False   False  False  False  False   True  False     False\n",
       "Fare         False    True  False  False  False  False   True     False\n",
       "Embarked     False   False  False  False  False  False  False      True"
      ]
     },
     "execution_count": 24,
     "metadata": {},
     "output_type": "execute_result"
    }
   ],
   "source": [
    "mask"
   ]
  },
  {
   "cell_type": "code",
   "execution_count": 26,
   "metadata": {},
   "outputs": [
    {
     "name": "stdout",
     "output_type": "stream",
     "text": [
      "\n",
      "Nueva matriz de correlación (solo columnas con |correlación| > 0.5):\n",
      "          Survived    Pclass       Sex       Age     SibSp     Parch  \\\n",
      "Survived  1.000000 -0.320057  0.541606 -0.077430 -0.028703  0.082036   \n",
      "Pclass   -0.320057  1.000000 -0.116396 -0.337500  0.079031  0.010739   \n",
      "Sex       0.541606 -0.116396  1.000000 -0.098409  0.116522  0.233816   \n",
      "Age      -0.077430 -0.337500 -0.098409  1.000000 -0.249803 -0.188501   \n",
      "SibSp    -0.028703  0.079031  0.116522 -0.249803  1.000000  0.418386   \n",
      "Parch     0.082036  0.010739  0.233816 -0.188501  0.418386  1.000000   \n",
      "Fare      0.252462 -0.555048  0.174581  0.084650  0.152344  0.216028   \n",
      "Embarked  0.101386  0.051618  0.108091  0.003588 -0.055501 -0.101304   \n",
      "\n",
      "              Fare  Embarked  \n",
      "Survived  0.252462  0.101386  \n",
      "Pclass   -0.555048  0.051618  \n",
      "Sex       0.174581  0.108091  \n",
      "Age       0.084650  0.003588  \n",
      "SibSp     0.152344 -0.055501  \n",
      "Parch     0.216028 -0.101304  \n",
      "Fare      1.000000  0.061526  \n",
      "Embarked  0.061526  1.000000  \n"
     ]
    }
   ],
   "source": [
    "# Crear una máscara para filtrar columnas con correlación absoluta mayor que 0.5\n",
    "threshold = 0.5\n",
    "mask = (corr.abs() < threshold)\n",
    "\n",
    "# Obtener las columnas que cumplen con la condición\n",
    "columns_to_keep = mask.columns[mask.any()]\n",
    "\n",
    "# Crear una nueva matriz de correlación con las columnas filtradas\n",
    "new_corr = corr.loc[columns_to_keep, columns_to_keep]\n",
    "\n",
    "# Mostrar la nueva matriz de correlación\n",
    "print(\"\\nNueva matriz de correlación (solo columnas con |correlación| > 0.5):\")\n",
    "print(new_corr)"
   ]
  },
  {
   "cell_type": "code",
   "execution_count": 30,
   "metadata": {},
   "outputs": [
    {
     "name": "stdout",
     "output_type": "stream",
     "text": [
      "\n",
      "Características con correlación absoluta con 'Survived' mayor que el promedio (excluyendo 'Survived'):\n",
      "Pclass    0.320057\n",
      "Sex       0.541606\n",
      "Fare      0.252462\n",
      "Name: Survived, dtype: float64\n"
     ]
    }
   ],
   "source": [
    "# Obtener las correlaciones absolutas con la columna 'Survived', excluyendo 'Survived' mismo\n",
    "survived_corr_abs = corr['Survived'].drop('Survived').abs()\n",
    "\n",
    "# Calcular el promedio de las correlaciones absolutas con 'Survived'\n",
    "mean_corr_abs = survived_corr_abs.mean()\n",
    "\n",
    "# Filtrar las características que tienen una correlación absoluta mayor que el promedio\n",
    "features_above_average_abs = survived_corr_abs[survived_corr_abs > mean_corr_abs]\n",
    "\n",
    "# Mostrar las características con correlaciones absolutas mayores que el promedio\n",
    "print(\"\\nCaracterísticas con correlación absoluta con 'Survived' mayor que el promedio (excluyendo 'Survived'):\")\n",
    "print(features_above_average_abs)"
   ]
  },
  {
   "cell_type": "code",
   "execution_count": null,
   "metadata": {},
   "outputs": [],
   "source": []
  },
  {
   "cell_type": "code",
   "execution_count": null,
   "metadata": {},
   "outputs": [],
   "source": []
  },
  {
   "cell_type": "code",
   "execution_count": null,
   "metadata": {},
   "outputs": [],
   "source": []
  },
  {
   "cell_type": "code",
   "execution_count": 31,
   "metadata": {},
   "outputs": [
    {
     "name": "stdout",
     "output_type": "stream",
     "text": [
      "Fare        0.271989\n",
      "Age         0.267027\n",
      "Sex         0.255921\n",
      "Pclass      0.085038\n",
      "SibSp       0.049214\n",
      "Parch       0.035992\n",
      "Embarked    0.034819\n",
      "dtype: float64\n"
     ]
    }
   ],
   "source": [
    "# Análisis de importancia (Ejemplo con Random Forest)\n",
    "from sklearn.ensemble import RandomForestClassifier\n",
    "\n",
    "X = df.drop('Survived', axis=1)  # Cambia esto según tu variable objetivo\n",
    "y = df['Survived']\n",
    "\n",
    "model = RandomForestClassifier()\n",
    "model.fit(X, y)\n",
    "\n",
    "# Importancia de características\n",
    "importancia = model.feature_importances_\n",
    "features = X.columns\n",
    "feature_importance = pd.Series(importancia, index=features).sort_values(ascending=False)\n",
    "\n",
    "print(feature_importance)"
   ]
  },
  {
   "cell_type": "code",
   "execution_count": 32,
   "metadata": {},
   "outputs": [
    {
     "name": "stdout",
     "output_type": "stream",
     "text": [
      "Características con importancia mayor que el promedio:\n",
      "Fare    0.271989\n",
      "Age     0.267027\n",
      "Sex     0.255921\n",
      "dtype: float64\n"
     ]
    }
   ],
   "source": [
    "# Calcular el promedio de las importancias\n",
    "mean_importance = feature_importance.mean()\n",
    "\n",
    "# Filtrar las características que tienen una importancia mayor que el promedio\n",
    "important_features = feature_importance[feature_importance > mean_importance]\n",
    "\n",
    "# Mostrar las características importantes\n",
    "print(\"Características con importancia mayor que el promedio:\")\n",
    "print(important_features)"
   ]
  },
  {
   "cell_type": "code",
   "execution_count": 33,
   "metadata": {},
   "outputs": [],
   "source": []
  },
  {
   "cell_type": "code",
   "execution_count": 35,
   "metadata": {},
   "outputs": [],
   "source": [
    "# Crear un DataFrame con las características\n",
    "features_above_average_df = features_above_average_abs.index.to_frame(name='Feature')\n",
    "important_features_df = important_features.index.to_frame(name='Feature')\n",
    "\n",
    "# Combinar las dos DataFrames\n",
    "combined_features_df = pd.concat([features_above_average_df, important_features_df])\n",
    "\n",
    "# Eliminar duplicados\n",
    "unique_features_df = combined_features_df.drop_duplicates()\n",
    "\n",
    "# Guardar el resultado en un archivo CSV\n",
    "unique_features_df.to_csv('C:/Users/Diego/Desktop/ML/features/titanic/important_features.csv', index=False)"
   ]
  },
  {
   "cell_type": "code",
   "execution_count": null,
   "metadata": {},
   "outputs": [],
   "source": []
  }
 ],
 "metadata": {
  "kernelspec": {
   "display_name": "Python 3",
   "language": "python",
   "name": "python3"
  },
  "language_info": {
   "codemirror_mode": {
    "name": "ipython",
    "version": 3
   },
   "file_extension": ".py",
   "mimetype": "text/x-python",
   "name": "python",
   "nbconvert_exporter": "python",
   "pygments_lexer": "ipython3",
   "version": "3.10.11"
  }
 },
 "nbformat": 4,
 "nbformat_minor": 2
}
